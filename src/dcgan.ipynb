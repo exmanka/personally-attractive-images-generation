{
 "cells": [
  {
   "cell_type": "code",
   "execution_count": 2,
   "id": "eac3eba2-cb44-4e3f-ac74-703cd4aa9c7d",
   "metadata": {},
   "outputs": [],
   "source": [
    "import os\n",
    "os.environ['TF_CPP_MIN_LOG_LEVEL'] = '3' \n",
    "import tensorflow as tf\n",
    "from keras.layers import Input, Reshape, Dropout, Dense \n",
    "from keras.layers import Flatten, BatchNormalization\n",
    "from keras.layers import Activation, ZeroPadding2D\n",
    "from keras.layers import LeakyReLU\n",
    "from keras.layers import UpSampling2D, Conv2D\n",
    "from keras.models import Sequential, Model, load_model\n",
    "from keras.optimizers import Adam\n",
    "from keras.losses import BinaryCrossentropy\n",
    "import matplotlib.pyplot as plt\n",
    "import numpy as np\n",
    "import time\n",
    "import sys\n",
    "from PIL import Image\n",
    "from tqdm import tqdm"
   ]
  },
  {
   "cell_type": "code",
   "execution_count": 2,
   "id": "b8ce9ce1-8e69-4e00-8aaf-7de16201f1a5",
   "metadata": {},
   "outputs": [
    {
     "name": "stdout",
     "output_type": "stream",
     "text": [
      "Will generate 96px square images.\n"
     ]
    }
   ],
   "source": [
    "GENERATE_RES = 3 # Generation resolution factor \n",
    "# (1=32, 2=64, 3=96, 4=128, etc.)\n",
    "GENERATE_SQUARE = 32 * GENERATE_RES\n",
    "IMAGE_CHANNELS = 3\n",
    "\n",
    "# Preview image \n",
    "PREVIEW_ROWS = 1\n",
    "PREVIEW_COLS = 7\n",
    "PREVIEW_MARGIN = 16\n",
    "\n",
    "# Size vector to generate images from\n",
    "SEED_SIZE = 100\n",
    "\n",
    "# Configuration\n",
    "DATA_PATH = '/home/makim/datasets/celeba'\n",
    "EPOCHS = 50\n",
    "BATCH_SIZE = 32\n",
    "BUFFER_SIZE = 60000\n",
    "\n",
    "print(f\"Will generate {GENERATE_SQUARE}px square images.\")"
   ]
  },
  {
   "cell_type": "code",
   "execution_count": 3,
   "id": "a5f7eccf",
   "metadata": {},
   "outputs": [
    {
     "name": "stdout",
     "output_type": "stream",
     "text": [
      "Looking for file: /home/makim/datasets/celeba/training_data_96_96.npy\n",
      "Loading training images...\n"
     ]
    },
    {
     "name": "stderr",
     "output_type": "stream",
     "text": [
      "100%|█████████████████████████████████████████████████████████████████████████████████████████████████████████████| 30000/30000 [00:30<00:00, 994.10it/s]\n"
     ]
    },
    {
     "name": "stdout",
     "output_type": "stream",
     "text": [
      "Reshaping data...\n",
      "Reshaping is complete! Processing time: 0.1s\n",
      "Normalizing data...\n",
      "Settings is complete! Processing time: 1.4s\n",
      "Data size: 3317.8MB\n",
      "Saving training image binary...\n",
      "Image preprocess time: 34.2s\n"
     ]
    }
   ],
   "source": [
    "training_binary_path = os.path.join(DATA_PATH, f'training_data_{GENERATE_SQUARE}_{GENERATE_SQUARE}.npy')\n",
    "\n",
    "print(f\"Looking for file: {training_binary_path}\")\n",
    "\n",
    "if not os.path.isfile(training_binary_path):\n",
    "    start = time.time()\n",
    "    print('Loading training images...')\n",
    "    \n",
    "    training_data = []\n",
    "    faces_path = os.path.join(DATA_PATH, 'celeba_hq_256_jpeg')\n",
    "    for filename in tqdm(os.listdir(faces_path)):\n",
    "        path = os.path.join(faces_path, filename)\n",
    "        image = Image.open(path).resize((GENERATE_SQUARE, GENERATE_SQUARE), Image.LANCZOS)\n",
    "        training_data.append(np.asarray(image))\n",
    "\n",
    "    start_reshape = time.time()\n",
    "    print('Reshaping data...')\n",
    "    training_data = np.reshape(training_data,(-1, GENERATE_SQUARE, GENERATE_SQUARE, IMAGE_CHANNELS))\n",
    "    print(f'Reshaping is complete! Processing time: {time.time() - start_reshape:.1f}s')\n",
    "\n",
    "    start_dtype = time.time()\n",
    "    print('Normalizing data...')\n",
    "    training_data = training_data.astype(np.float32)\n",
    "    training_data = training_data / 127.5 - 1.\n",
    "    print(f'Settings is complete! Processing time: {time.time() - start_dtype:.1f}s')\n",
    "    print(f'Data size: {sys.getsizeof(training_data) / 1e6:.1f}MB')\n",
    "\n",
    "    print(\"Saving training image binary...\")\n",
    "    np.save(training_binary_path, training_data)\n",
    "    print (f'Image preprocess time: {time.time() - start:.1f}s')\n",
    "    \n",
    "else:\n",
    "    print('Loading previous training pickle...')\n",
    "    training_data = np.load(training_binary_path)"
   ]
  },
  {
   "cell_type": "code",
   "execution_count": 4,
   "id": "f7ce927e-ec8b-4c02-b449-583284b301fa",
   "metadata": {},
   "outputs": [],
   "source": [
    "train_dataset = tf.data.Dataset.from_tensor_slices(training_data).shuffle(BUFFER_SIZE).batch(BATCH_SIZE)"
   ]
  },
  {
   "cell_type": "code",
   "execution_count": 5,
   "id": "534ea131-128c-4d94-b0d5-fb3b1cdcc95c",
   "metadata": {},
   "outputs": [],
   "source": [
    "def build_generator(seed_size, channels):\n",
    "    return Sequential(\n",
    "        [\n",
    "            Input((seed_size,)),\n",
    "            Dense(4*4*256, activation='relu'),\n",
    "            Reshape((4,4,256)),\n",
    "            \n",
    "            UpSampling2D(),\n",
    "            Conv2D(256, kernel_size=3, padding='same'),\n",
    "            BatchNormalization(momentum=0.8),\n",
    "            Activation('relu'),\n",
    "\n",
    "            UpSampling2D(),\n",
    "            Conv2D(256, kernel_size=3, padding='same'),\n",
    "            BatchNormalization(momentum=0.8),\n",
    "            Activation('relu'),\n",
    "\n",
    "            UpSampling2D(),\n",
    "            Conv2D(128, kernel_size=3, padding='same'),\n",
    "            BatchNormalization(momentum=0.8),\n",
    "            Activation('relu'),\n",
    "\n",
    "            UpSampling2D(size=(GENERATE_RES, GENERATE_RES)),\n",
    "            Conv2D(128, kernel_size=3, padding='same'),\n",
    "            BatchNormalization(momentum=0.8),\n",
    "            Activation('relu'),\n",
    "\n",
    "            Conv2D(channels, kernel_size=3, padding='same'),\n",
    "            Activation('tanh')\n",
    "        ]\n",
    "    )\n",
    "\n",
    "\n",
    "def build_discriminator(image_shape):\n",
    "    return Sequential(\n",
    "        [\n",
    "            Input(image_shape),\n",
    "            Conv2D(32, kernel_size=3, strides=2, padding='same'),\n",
    "            LeakyReLU(negative_slope=0.2),\n",
    "\n",
    "            Dropout(0.25),\n",
    "            Conv2D(64, kernel_size=3, strides=2, padding='same'),\n",
    "            ZeroPadding2D(padding=((0,1), (0,1))),\n",
    "            BatchNormalization(momentum=0.8),\n",
    "            LeakyReLU(negative_slope=0.2),\n",
    "\n",
    "            Dropout(0.25),\n",
    "            Conv2D(128, kernel_size=3, strides=2, padding='same'),\n",
    "            BatchNormalization(momentum=0.8),\n",
    "            LeakyReLU(negative_slope=0.2),\n",
    "\n",
    "            Dropout(0.25),\n",
    "            Conv2D(256, kernel_size=3, strides=1, padding='same'),\n",
    "            BatchNormalization(momentum=0.8),\n",
    "            LeakyReLU(negative_slope=0.2),\n",
    "\n",
    "            Dropout(0.25),\n",
    "            Conv2D(512, kernel_size=3, strides=1, padding='same'),\n",
    "            BatchNormalization(momentum=0.8),\n",
    "            LeakyReLU(negative_slope=0.2),\n",
    "\n",
    "            Dropout(0.25),\n",
    "            Flatten(),\n",
    "            Dense(1, activation='sigmoid')\n",
    "        ]\n",
    "    )"
   ]
  },
  {
   "cell_type": "code",
   "execution_count": 6,
   "id": "caee409b-4e57-40c1-9b67-9000e57be1c0",
   "metadata": {},
   "outputs": [],
   "source": [
    "cross_entropy = BinaryCrossentropy()\n",
    "\n",
    "def discriminator_loss(real_output, fake_output):\n",
    "    real_loss = cross_entropy(tf.ones_like(real_output), real_output)\n",
    "    fake_loss = cross_entropy(tf.zeros_like(fake_output), fake_output)\n",
    "    total_loss = real_loss + fake_loss\n",
    "    return total_loss\n",
    "\n",
    "def generator_loss(fake_output):\n",
    "    return cross_entropy(tf.ones_like(fake_output), fake_output)"
   ]
  },
  {
   "cell_type": "code",
   "execution_count": 7,
   "id": "2d14dd8f-907c-4b42-86d7-4ed2d58705e7",
   "metadata": {},
   "outputs": [],
   "source": [
    "noise = tf.random.normal([1, SEED_SIZE])\n",
    "image_shape = (GENERATE_SQUARE, GENERATE_SQUARE, IMAGE_CHANNELS)"
   ]
  },
  {
   "cell_type": "code",
   "execution_count": 8,
   "id": "c19d87d5-c79e-4f49-b1ae-b2eb42415b6f",
   "metadata": {},
   "outputs": [],
   "source": [
    "generator = build_generator(SEED_SIZE, IMAGE_CHANNELS)\n",
    "generator_optimizer = Adam(1.5e-4, 0.5)"
   ]
  },
  {
   "cell_type": "code",
   "execution_count": 9,
   "id": "339327d2-78ac-4692-8ae3-6621640ba9de",
   "metadata": {},
   "outputs": [],
   "source": [
    "discriminator = build_discriminator(image_shape)\n",
    "discriminator_optimizer = Adam(1.5e-4, 0.5)"
   ]
  },
  {
   "cell_type": "code",
   "execution_count": 10,
   "id": "01ff66a1-3c25-44ea-a41e-b23d16ad113f",
   "metadata": {},
   "outputs": [],
   "source": [
    "@tf.function\n",
    "def train_step(images):\n",
    "    seed = tf.random.normal([BATCH_SIZE, SEED_SIZE])\n",
    "\n",
    "    with tf.GradientTape() as gen_tape, tf.GradientTape() as disc_tape:\n",
    "        generated_images = generator(seed, training=True)\n",
    "        \n",
    "        real_output = discriminator(images, training=True)\n",
    "        fake_output = discriminator(generated_images, training=True)\n",
    "        \n",
    "        gen_loss = generator_loss(fake_output)\n",
    "        disc_loss = discriminator_loss(real_output, fake_output)\n",
    "        \n",
    "        \n",
    "        gradients_of_generator = gen_tape.gradient(gen_loss, generator.trainable_variables)\n",
    "        gradients_of_discriminator = disc_tape.gradient(disc_loss, discriminator.trainable_variables)\n",
    "        \n",
    "        generator_optimizer.apply_gradients(zip(gradients_of_generator, generator.trainable_variables))\n",
    "        discriminator_optimizer.apply_gradients(zip(gradients_of_discriminator, discriminator.trainable_variables))\n",
    "        \n",
    "    return gen_loss, disc_loss"
   ]
  },
  {
   "cell_type": "code",
   "execution_count": 11,
   "id": "1b0b4d03-efea-4ae2-8f21-a40bd583b664",
   "metadata": {},
   "outputs": [],
   "source": [
    "def train(dataset, epochs) -> tuple[list, list]:\n",
    "    start = time.time()\n",
    "    gen_loss_history = []\n",
    "    disc_loss_history = []\n",
    "    \n",
    "    for epoch in range(epochs):\n",
    "        epoch_start = time.time()\n",
    "        \n",
    "        gen_loss_list = []\n",
    "        disc_loss_list = []\n",
    "        \n",
    "        for image_batch in dataset:\n",
    "            t = train_step(image_batch)\n",
    "            gen_loss_list.append(t[0])\n",
    "            disc_loss_list.append(t[1])\n",
    "\n",
    "        g_loss = sum(gen_loss_list) / len(gen_loss_list)\n",
    "        d_loss = sum(disc_loss_list) / len(disc_loss_list)\n",
    "\n",
    "        gen_loss_history.append(g_loss)\n",
    "        disc_loss_history.append(d_loss)\n",
    "\n",
    "        print(f'Epoch {epoch + 1}/{epochs}\\n'\\\n",
    "            f'{time.time() - epoch_start:.1f}s - generator loss: {g_loss:.4f} - discriminator loss: {d_loss:.4f}')\n",
    "\n",
    "    print(f'Training time: {time.strftime(\"%-Hh %-Mm %-Ss\", time.gmtime(time.time() - start))}')\n",
    "\n",
    "    return gen_loss_history, disc_loss_history"
   ]
  },
  {
   "cell_type": "code",
   "execution_count": 12,
   "id": "8ef1e643-c96b-4f1b-9298-64ec249a6b51",
   "metadata": {},
   "outputs": [
    {
     "name": "stdout",
     "output_type": "stream",
     "text": [
      "Epoch 1/50\n",
      "50.5s - generator loss: 3.6911 - discriminator loss: 1.0757\n",
      "Epoch 2/50\n",
      "39.7s - generator loss: 2.8667 - discriminator loss: 1.0526\n",
      "Epoch 3/50\n",
      "39.8s - generator loss: 2.7784 - discriminator loss: 1.0142\n",
      "Epoch 4/50\n",
      "39.9s - generator loss: 2.5487 - discriminator loss: 1.0228\n",
      "Epoch 5/50\n",
      "39.9s - generator loss: 2.7018 - discriminator loss: 0.9503\n",
      "Epoch 6/50\n",
      "39.9s - generator loss: 2.6847 - discriminator loss: 0.9353\n",
      "Epoch 7/50\n",
      "40.0s - generator loss: 2.6014 - discriminator loss: 0.9227\n",
      "Epoch 8/50\n",
      "40.0s - generator loss: 2.6007 - discriminator loss: 0.9210\n",
      "Epoch 9/50\n",
      "40.1s - generator loss: 2.6510 - discriminator loss: 0.9250\n",
      "Epoch 10/50\n",
      "40.0s - generator loss: 2.5414 - discriminator loss: 0.9235\n",
      "Epoch 11/50\n",
      "40.1s - generator loss: 2.5079 - discriminator loss: 0.9464\n",
      "Epoch 12/50\n",
      "40.1s - generator loss: 2.5342 - discriminator loss: 0.8733\n",
      "Epoch 13/50\n",
      "40.1s - generator loss: 2.6579 - discriminator loss: 0.8711\n",
      "Epoch 14/50\n",
      "40.1s - generator loss: 2.6706 - discriminator loss: 0.8960\n",
      "Epoch 15/50\n",
      "40.1s - generator loss: 2.6418 - discriminator loss: 0.8896\n",
      "Epoch 16/50\n",
      "40.1s - generator loss: 2.5015 - discriminator loss: 0.8989\n",
      "Epoch 17/50\n",
      "40.1s - generator loss: 2.4257 - discriminator loss: 0.9628\n",
      "Epoch 18/50\n",
      "40.1s - generator loss: 2.2985 - discriminator loss: 0.9742\n",
      "Epoch 19/50\n",
      "40.1s - generator loss: 2.2483 - discriminator loss: 0.9847\n",
      "Epoch 20/50\n",
      "40.1s - generator loss: 2.1341 - discriminator loss: 1.0352\n",
      "Epoch 21/50\n",
      "40.0s - generator loss: 2.0482 - discriminator loss: 1.0517\n",
      "Epoch 22/50\n",
      "40.1s - generator loss: 2.0346 - discriminator loss: 1.0564\n",
      "Epoch 23/50\n",
      "40.0s - generator loss: 1.9719 - discriminator loss: 1.0708\n",
      "Epoch 24/50\n",
      "40.0s - generator loss: 1.9625 - discriminator loss: 1.0714\n",
      "Epoch 25/50\n",
      "40.0s - generator loss: 1.9609 - discriminator loss: 1.0559\n",
      "Epoch 26/50\n",
      "40.0s - generator loss: 1.9477 - discriminator loss: 1.0543\n",
      "Epoch 27/50\n",
      "40.0s - generator loss: 1.9571 - discriminator loss: 1.0452\n",
      "Epoch 28/50\n",
      "40.0s - generator loss: 1.9540 - discriminator loss: 1.0476\n",
      "Epoch 29/50\n",
      "40.0s - generator loss: 1.9448 - discriminator loss: 1.0566\n",
      "Epoch 30/50\n",
      "40.0s - generator loss: 1.9430 - discriminator loss: 1.0342\n",
      "Epoch 31/50\n",
      "40.0s - generator loss: 1.9161 - discriminator loss: 1.0606\n",
      "Epoch 32/50\n",
      "40.0s - generator loss: 1.9213 - discriminator loss: 1.0634\n",
      "Epoch 33/50\n",
      "40.0s - generator loss: 1.9377 - discriminator loss: 1.0358\n",
      "Epoch 34/50\n",
      "40.0s - generator loss: 1.9371 - discriminator loss: 1.0426\n",
      "Epoch 35/50\n",
      "40.0s - generator loss: 1.9566 - discriminator loss: 1.0131\n",
      "Epoch 36/50\n",
      "40.0s - generator loss: 1.9557 - discriminator loss: 1.0280\n",
      "Epoch 37/50\n",
      "40.0s - generator loss: 1.9474 - discriminator loss: 1.0237\n",
      "Epoch 38/50\n",
      "40.0s - generator loss: 1.9678 - discriminator loss: 0.9933\n",
      "Epoch 39/50\n",
      "40.0s - generator loss: 1.9660 - discriminator loss: 1.0107\n",
      "Epoch 40/50\n",
      "40.0s - generator loss: 1.9998 - discriminator loss: 1.0042\n",
      "Epoch 41/50\n",
      "40.0s - generator loss: 1.9707 - discriminator loss: 1.0045\n",
      "Epoch 42/50\n",
      "40.0s - generator loss: 1.9650 - discriminator loss: 1.0068\n",
      "Epoch 43/50\n",
      "40.0s - generator loss: 1.9952 - discriminator loss: 0.9975\n",
      "Epoch 44/50\n",
      "40.0s - generator loss: 2.0153 - discriminator loss: 0.9750\n",
      "Epoch 45/50\n",
      "40.0s - generator loss: 2.0075 - discriminator loss: 0.9875\n",
      "Epoch 46/50\n",
      "40.0s - generator loss: 2.0097 - discriminator loss: 0.9956\n",
      "Epoch 47/50\n",
      "40.1s - generator loss: 2.0113 - discriminator loss: 0.9713\n",
      "Epoch 48/50\n",
      "40.0s - generator loss: 2.0505 - discriminator loss: 0.9518\n",
      "Epoch 49/50\n",
      "40.0s - generator loss: 2.0518 - discriminator loss: 0.9496\n",
      "Epoch 50/50\n",
      "40.0s - generator loss: 2.0786 - discriminator loss: 0.9618\n",
      "Training time: 0h 33m 31s\n"
     ]
    }
   ],
   "source": [
    "gen_loss_history, disc_loss_history = train(train_dataset, EPOCHS)"
   ]
  },
  {
   "cell_type": "code",
   "execution_count": 13,
   "id": "c696e05b-7a55-431f-9ceb-31b6070e46ef",
   "metadata": {},
   "outputs": [],
   "source": [
    "model_training_date_time = time.localtime()"
   ]
  },
  {
   "cell_type": "code",
   "execution_count": 14,
   "id": "fc84da36-4eee-46e8-aff2-a21c79907ef7",
   "metadata": {},
   "outputs": [],
   "source": [
    "def convert_time(time_time, pattern: str = '%Y-%m-%d-%H-%M') -> str:\n",
    "    return time.strftime(pattern, time_time)\n",
    "\n",
    "model_training_date_time_parsed = convert_time(model_training_date_time)"
   ]
  },
  {
   "cell_type": "code",
   "execution_count": 15,
   "id": "2c37e34b-37de-4b54-a629-353dec2af1e4",
   "metadata": {},
   "outputs": [
    {
     "data": {
      "image/png": "[encoded data removed]",
      "text/plain": [
       "<Figure size 1200x800 with 1 Axes>"
      ]
     },
     "metadata": {},
     "output_type": "display_data"
    }
   ],
   "source": [
    "plt.figure(figsize=(12, 8))\n",
    "plt.title('DCGAN learning curve')\n",
    "plt.xlabel('Epochs')\n",
    "plt.ylabel('Loss')\n",
    "plt.plot(gen_loss_history, label='generator loss', color='c')\n",
    "plt.plot(disc_loss_history, label='discriminator loss', color='b')\n",
    "plt.legend()\n",
    "plt.grid(True)\n",
    "plt.savefig(os.path.join(DATA_PATH, f'{model_training_date_time_parsed}_learning_curve.pdf'))\n",
    "plt.show()"
   ]
  },
  {
   "cell_type": "code",
   "execution_count": 16,
   "id": "c0994128-d926-41c3-b893-d0ccd8cca136",
   "metadata": {},
   "outputs": [],
   "source": [
    "generator.save(os.path.join(DATA_PATH, f'{model_training_date_time_parsed}_dcgan.keras'))"
   ]
  },
  {
   "cell_type": "code",
   "execution_count": 17,
   "id": "1464acaf-5469-48bb-bbd7-0d73070ba47f",
   "metadata": {},
   "outputs": [
    {
     "name": "stdout",
     "output_type": "stream",
     "text": [
      "\u001b[1m1/1\u001b[0m \u001b[32m━━━━━━━━━━━━━━━━━━━━\u001b[0m\u001b[37m\u001b[0m \u001b[1m1s\u001b[0m 518ms/step\n"
     ]
    },
    {
     "name": "stderr",
     "output_type": "stream",
     "text": [
      "WARNING: All log messages before absl::InitializeLog() is called are written to STDERR\n",
      "I0000 00:00:1712207124.058854  181855 device_compiler.h:186] Compiled cluster using XLA!  This line is logged at most once for the lifetime of the process.\n"
     ]
    },
    {
     "data": {
      "text/plain": [
       "<matplotlib.image.AxesImage at 0x75c0cfb47700>"
      ]
     },
     "execution_count": 17,
     "metadata": {},
     "output_type": "execute_result"
    },
    {
     "data": {
      "image/png": "[encoded data removed]",
      "text/plain": [
       "<Figure size 640x480 with 1 Axes>"
      ]
     },
     "metadata": {},
     "output_type": "display_data"
    }
   ],
   "source": [
    "noise = tf.random.normal([1, SEED_SIZE])\n",
    "generated_image = generator.predict(noise)\n",
    "generated_image = 0.5 * generated_image + 0.5\n",
    "\n",
    "plt.imshow(generated_image[0])"
   ]
  },
  {
   "cell_type": "code",
   "execution_count": 18,
   "id": "b7f5b985-62a6-4f80-b4c4-fe342ec082d9",
   "metadata": {},
   "outputs": [],
   "source": [
    "def save_images(name, noise):\n",
    "    image_array = np.full((\n",
    "        PREVIEW_MARGIN + (PREVIEW_ROWS * (GENERATE_SQUARE+PREVIEW_MARGIN)),\n",
    "        PREVIEW_MARGIN + (PREVIEW_COLS * (GENERATE_SQUARE+PREVIEW_MARGIN)), IMAGE_CHANNELS),\n",
    "        255, dtype=np.uint8)\n",
    "  \n",
    "    generated_images = generator.predict(noise)\n",
    "\n",
    "    generated_images = 0.5 * generated_images + 0.5\n",
    "    \n",
    "    image_count = 0\n",
    "    for row in range(PREVIEW_ROWS):\n",
    "        for col in range(PREVIEW_COLS):\n",
    "            r = row * (GENERATE_SQUARE+16) + PREVIEW_MARGIN\n",
    "            c = col * (GENERATE_SQUARE+16) + PREVIEW_MARGIN\n",
    "            image_array[r:r+GENERATE_SQUARE,c:c+GENERATE_SQUARE] = generated_images[image_count] * 255\n",
    "            image_count += 1\n",
    "\n",
    "    output_path = os.path.join(DATA_PATH, 'output')\n",
    "    if not os.path.exists(output_path):\n",
    "        os.makedirs(output_path)\n",
    "  \n",
    "    filename = os.path.join(output_path,f'{name}.pdf')\n",
    "    im = Image.fromarray(image_array)\n",
    "    im.save(filename)"
   ]
  },
  {
   "cell_type": "code",
   "execution_count": 19,
   "id": "4722c9c3-175d-4216-bef3-d8904df3a11c",
   "metadata": {},
   "outputs": [
    {
     "name": "stdout",
     "output_type": "stream",
     "text": [
      "\u001b[1m1/1\u001b[0m \u001b[32m━━━━━━━━━━━━━━━━━━━━\u001b[0m\u001b[37m\u001b[0m \u001b[1m1s\u001b[0m 545ms/step\n"
     ]
    }
   ],
   "source": [
    "save_images(f'{model_training_date_time_parsed}_output', np.random.normal(0, 1, (PREVIEW_ROWS * PREVIEW_COLS, SEED_SIZE)))"
   ]
  }
 ],
 "metadata": {
  "kernelspec": {
   "display_name": "Python 3 (ipykernel)",
   "language": "python",
   "name": "python3"
  }
 },
 "nbformat": 4,
 "nbformat_minor": 5
}
